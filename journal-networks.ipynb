{
 "cells": [
  {
   "cell_type": "markdown",
   "id": "6edd7863",
   "metadata": {},
   "source": [
    "## Journal network"
   ]
  },
  {
   "cell_type": "code",
   "execution_count": 1,
   "id": "8f4f9cf4",
   "metadata": {},
   "outputs": [],
   "source": [
    "import pandas as pd\n",
    "import numpy as np\n",
    "import seaborn as sns\n",
    "import matplotlib.pyplot as plt\n",
    "import networkx as nx\n",
    "import scipy.stats as stats\n",
    "import pickle\n",
    "\n",
    "from itertools import chain, combinations\n",
    "from scipy.cluster.hierarchy import dendrogram\n",
    "from unidecode import unidecode\n",
    "from collections import Counter\n",
    "from operator import itemgetter"
   ]
  },
  {
   "cell_type": "markdown",
   "id": "991a7562",
   "metadata": {},
   "source": [
    "### Loading data"
   ]
  },
  {
   "cell_type": "code",
   "execution_count": null,
   "id": "f53fb25e",
   "metadata": {},
   "outputs": [],
   "source": [
    "authorsDataPath = \"magazine/data/authorsData.xlsx\"\n",
    "combinedWorksPath = \"magazine/data/combinedWorks.xlsx\"\n",
    "workPerAuthorPath = \"magazine/data/workPerAuthor.xlsx\"\n",
    "authorsAndWorksPath = \"magazine/data/authorsAndWorks.xlsx\"\n",
    "\n",
    "authorsData = pd.read_excel(authorsDataPath)\n",
    "combinedWorks = pd.read_excel(combinedWorksPath)\n",
    "workPerAuthor = pd.read_excel(workPerAuthorPath)\n",
    "authorsAndWorks = pd.read_excel(authorsAndWorksPath)\n",
    "\n",
    "# authorsData.head(60)\n",
    "authorsAndWorks.head(15)"
   ]
  },
  {
   "cell_type": "code",
   "execution_count": null,
   "id": "f5c34191",
   "metadata": {},
   "outputs": [],
   "source": [
    "authorsAndWorks.groupby('Source title').size().reset_index(name='Num of work per Source title').sort_values(by='Num of work per Source title', ascending=False).head(50)"
   ]
  },
  {
   "cell_type": "markdown",
   "id": "82f2880b",
   "metadata": {},
   "source": [
    "### Forming a network of journals"
   ]
  },
  {
   "cell_type": "code",
   "execution_count": null,
   "id": "3295cca9",
   "metadata": {},
   "outputs": [],
   "source": [
    "# Removing blank characters\n",
    "authorsAndWorks[\"Source title\"] = authorsAndWorks[\"Source title\"].apply(lambda x: x.strip())\n",
    "# workPerAuthor.head(10)\n",
    "\n",
    "# Netowrk labels\n",
    "networkLabels = authorsAndWorks['Source title'].unique()\n",
    "print(f\"Number of journals is: {len(networkLabels)}\")\n",
    "\n",
    "magazineNetwork = nx.DiGraph()\n",
    "\n",
    "# Adding Nodes (Journals)\n",
    "magazineNetwork.add_nodes_from(authorsAndWorks['Source title'].unique())\n",
    "\n",
    "# Adding branches with weights (collaborations)\n",
    "for _, group_data in authorsAndWorks.groupby('Author'):\n",
    "    journals = group_data['Source title'].unique()\n",
    "    if len(journals) > 1:\n",
    "        for i in range(len(journals)):\n",
    "            for j in range(i + 1, len(journals)):\n",
    "                # If the branch already exists, increase the weight\n",
    "                if magazineNetwork.has_edge(journals[i], journals[j]):\n",
    "                    magazineNetwork.edges[journals[i], journals[j]]['weight'] += 1\n",
    "                else:\n",
    "                    # If the branch does not exist, add it with weight 1\n",
    "                    magazineNetwork.add_edge(journals[i], journals[j], weight=1)\n",
    "\n",
    "print(magazineNetwork.edges.data(\"weight\"))\n",
    "print(magazineNetwork.number_of_nodes())\n",
    "print(magazineNetwork.number_of_edges())\n",
    "\n",
    "nx.write_gml(magazineNetwork, \"magazine/models/journal-networks.gml\")"
   ]
  },
  {
   "cell_type": "markdown",
   "id": "9bd0969c",
   "metadata": {},
   "source": [
    "## 2. Basic characterization of modeled networks\n",
    "### 2.1 Coefficient of clustering"
   ]
  },
  {
   "cell_type": "code",
   "execution_count": null,
   "id": "b70ba613",
   "metadata": {},
   "outputs": [],
   "source": [
    "H = magazineNetwork.to_undirected()\n",
    "\n",
    "print(\"Number of connected components: \" , nx.number_connected_components(H))\n",
    "\n",
    "connected_componnets = sorted(nx.connected_components(H), key=len, reverse=True)\n",
    "print(\"Size of connected components:\")\n",
    "for x in connected_componnets:\n",
    "    print(len(x) , \"  \")\n",
    "    \n",
    "print( \"Average clustering coefficient: \" , nx.average_clustering(H), \", Global clustering coefficient:\" , nx.transitivity(H) )"
   ]
  },
  {
   "cell_type": "markdown",
   "id": "ffe6cfd0",
   "metadata": {},
   "source": [
    "### 2.2 Local Degree of clustering"
   ]
  },
  {
   "cell_type": "code",
   "execution_count": null,
   "id": "5399b03d",
   "metadata": {},
   "outputs": [],
   "source": [
    "author, clustering_coef = zip(*nx.clustering(H, weight = \"weight\").items())\n",
    "\n",
    "no_zero = [(auth, cc)  for auth, cc in zip(author, clustering_coef) if cc > 0]\n",
    "\n",
    "df = pd.DataFrame(no_zero, columns = [\"Source title\", \"Cc\"])\n",
    "df.sort_values('Cc', inplace = True)\n",
    "\n",
    "max_local_degree_of_clustering = max(clustering_coef)\n",
    "\n",
    "average_degree_of_clustering = nx.average_clustering(H)\n",
    "\n",
    "print(f\"Max local cc: {max_local_degree_of_clustering}\")\n",
    "print(f\"Average cc: {average_degree_of_clustering}\")\n",
    "print(\"Non-zero local degrees of clustering:\")\n",
    "print(df)\n",
    "\n",
    "# ax = df.plot.scatter(x='Author', y='Cc')\n",
    "# ax.set_xscale(\"log\")\n",
    "# ax.set_yscale(\"log\");\n",
    "\n",
    "plt.hist(clustering_coef, bins=10, edgecolor='black', color = \"green\")\n",
    "\n",
    "plt.title('Local Clustering Coefficient Histogram')\n",
    "plt.xlabel('Local Clustering Coefficient')\n",
    "plt.ylabel('Frequency')\n",
    "\n",
    "plt.savefig('magazine/images/local_cc_mag_network.png')\n",
    "plt.show()"
   ]
  },
  {
   "cell_type": "markdown",
   "id": "83edc970",
   "metadata": {},
   "source": [
    "### 2.3 Assortative mixing"
   ]
  },
  {
   "cell_type": "code",
   "execution_count": null,
   "id": "83b70273",
   "metadata": {},
   "outputs": [],
   "source": [
    "def plot_deg_corr(g, xscale = \"linear\", yscale = \"linear\"):\n",
    "    first = []\n",
    "    second = []\n",
    "    for i, k in g.edges():\n",
    "        first.append(g.degree(i))\n",
    "        first.append(g.degree(k))\n",
    "        second.append(g.degree(k))\n",
    "        second.append(g.degree(i))\n",
    "\n",
    "    plt.figure(1)   \n",
    "\n",
    "    plt.xlabel('degree')                                                                                                             \n",
    "    plt.xscale(xscale)                                                                                                                \n",
    "    plt.xlim(1, max(first)) \n",
    "\n",
    "    plt.ylabel('degree')                                                                                                          \n",
    "    plt.yscale(yscale)                                                                                                                \n",
    "    plt.ylim(1, max(second))                                                                                                             \n",
    "\n",
    "    plt.scatter(first, second, marker='.')        \n",
    "    plt.savefig('magazine/images/mag_net_asortativity_mix.png')\n",
    "    plt.show()\n",
    "\n",
    "plot_deg_corr(H)\n",
    "\n",
    "assortativity = nx.degree_assortativity_coefficient(H)\n",
    "print(f\"Mixing assortativeness coefficient: {assortativity}\")"
   ]
  }
 ],
 "metadata": {
  "kernelspec": {
   "display_name": "Python 3 (ipykernel)",
   "language": "python",
   "name": "python3"
  },
  "language_info": {
   "codemirror_mode": {
    "name": "ipython",
    "version": 3
   },
   "file_extension": ".py",
   "mimetype": "text/x-python",
   "name": "python",
   "nbconvert_exporter": "python",
   "pygments_lexer": "ipython3",
   "version": "3.11.5"
  }
 },
 "nbformat": 4,
 "nbformat_minor": 5
}
